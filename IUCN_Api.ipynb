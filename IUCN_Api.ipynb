{
 "cells": [
  {
   "cell_type": "code",
   "execution_count": 1,
   "id": "endless-satellite",
   "metadata": {},
   "outputs": [],
   "source": [
    "# importing libraries\n",
    "import os\n",
    "from dotenv import load_dotenv\n",
    "load_dotenv()\n",
    "import requests\n",
    "import json\n",
    "import pandas as pd"
   ]
  },
  {
   "cell_type": "code",
   "execution_count": 2,
   "id": "suitable-essay",
   "metadata": {},
   "outputs": [],
   "source": [
    "# get access to the token we have saved in our .env\n",
    "api_key = os.getenv('token')"
   ]
  },
  {
   "cell_type": "code",
   "execution_count": 3,
   "id": "stuck-artwork",
   "metadata": {},
   "outputs": [],
   "source": [
    "# get parameters\n",
    "parameters = {\"Auhorization\" : f\"token {api_key}\"}"
   ]
  },
  {
   "cell_type": "code",
   "execution_count": 4,
   "id": "proprietary-flower",
   "metadata": {},
   "outputs": [],
   "source": [
    "# read our dataset - outliers\n",
    "out = pd.read_csv('gbif_out.csv')"
   ]
  },
  {
   "cell_type": "code",
   "execution_count": 5,
   "id": "enclosed-details",
   "metadata": {},
   "outputs": [
    {
     "data": {
      "text/plain": [
       "list"
      ]
     },
     "execution_count": 5,
     "metadata": {},
     "output_type": "execute_result"
    }
   ],
   "source": [
    "# create a list of species\n",
    "spec = list(out.species.unique())\n",
    "type(spec)"
   ]
  },
  {
   "cell_type": "code",
   "execution_count": 6,
   "id": "adequate-survival",
   "metadata": {},
   "outputs": [],
   "source": [
    "# call the IUCN api in order to get the Animal Threat Category\n",
    "# we are also interested in the common name of every specie and the population trend\n",
    "\n",
    "def spec_info(df, token):\n",
    "    result = []\n",
    "    for d in df:\n",
    "        try:\n",
    "            gen = d.split()[0].lower()\n",
    "            sp = d.split()[1]\n",
    "            url = f\"https://apiv3.iucnredlist.org/api/v3/species/{gen}%20{sp}?token={api_key}\"\n",
    "            get = requests.get(url)\n",
    "            info = get.json()\n",
    "\n",
    "            result.append(info.get('result')[0])\n",
    "        except:\n",
    "            result.append({'taxonid': 'NaN', \n",
    "                           'scientific_name': f'{d}',\n",
    "                           'kingdom': 'ANIMALIA',\n",
    "                           'phylum': 'CHORDATA',\n",
    "                           'class': 'AVES', \n",
    "                           'order': 'NaN',\n",
    "                           'family': 'NaN',\n",
    "                           'genus': 'NaN',\n",
    "                           'main_common_name': 'NaN',\n",
    "                           'authority': 'NaN',\n",
    "                           'published_year': 'NaN',\n",
    "                           'assessment_date': 'NaN',\n",
    "                           'category': 'NaN', \n",
    "                           'criteria': 'NaN', \n",
    "                           'population_trend': 'NaN', \n",
    "                           'marine_system': 'NaN', \n",
    "                           'freshwater_system': 'NaN', \n",
    "                           'terrestrial_system': 'NaN', \n",
    "                           'assessor': 'NaN', \n",
    "                           'reviewer': 'NaN',\n",
    "                           'eoo_km2': 'NaN',\n",
    "                           'elevation_upper': 'NaN',\n",
    "                           'elevation_lower': 'NaN',\n",
    "                           'depth_upper': 'NaN',\n",
    "                           'depth_lower': 'NaN',\n",
    "                           'errata_flag': 'NaN',\n",
    "                           'errata_reason': 'NaN',\n",
    "                           'amended_flag': 'NaN',\n",
    "                           'amended_reason': 'NaN'})\n",
    "            \n",
    "    return pd.DataFrame.from_dict(result)\n"
   ]
  },
  {
   "cell_type": "code",
   "execution_count": 7,
   "id": "golden-savage",
   "metadata": {},
   "outputs": [],
   "source": [
    "iucn = spec_info(df = spec, token = api_key)"
   ]
  },
  {
   "cell_type": "code",
   "execution_count": 8,
   "id": "worst-architecture",
   "metadata": {},
   "outputs": [],
   "source": [
    "# create dics with relevant info \n",
    "category = dict(zip(iucn.scientific_name, iucn.category))\n",
    "common_name = dict(zip(iucn.scientific_name, iucn.main_common_name))\n",
    "population_trend = dict(zip(iucn.scientific_name, iucn.population_trend))\n",
    "\n",
    "\n",
    "# use map to apply dics to each specie\n",
    "out['category'] = out.species.map(category)\n",
    "out['common_name'] = out.species.map(common_name)\n",
    "out['population_trend'] = out.species.map(population_trend)\n"
   ]
  },
  {
   "cell_type": "code",
   "execution_count": 9,
   "id": "matched-heath",
   "metadata": {},
   "outputs": [],
   "source": [
    "# save outliers in dataset\n",
    "out.to_csv('outliers.csv')"
   ]
  },
  {
   "cell_type": "markdown",
   "id": "furnished-eleven",
   "metadata": {},
   "source": [
    "- Extinct **(EX)** – beyond reasonable doubt that the species is no longer extant.\n",
    "- Extinct in the wild **(EW)** – survives only in captivity, cultivation and/or outside native range, as presumed after exhaustive surveys.\n",
    "- Critically endangered **(CR)** – in a particularly and extremely critical state.\n",
    "- Endangered **(EN)** – very high risk of extinction in the wild, meets any of criteria A to E for Endangered.\n",
    "- Vulnerable **(VU)** – meets one of the 5 red list criteria and thus considered to be at high risk of unnatural (human-caused) extinction without further human intervention.\n",
    "- Near threatened **(NT)** – close to being at high risk of extinction in the near future.\n",
    "- Least concern **(LC)** – unlikely to become extinct in the near future.\n",
    "- Data deficient **(DD)**\n",
    "- Not evaluated **(NE)**"
   ]
  },
  {
   "cell_type": "code",
   "execution_count": 10,
   "id": "tested-patent",
   "metadata": {},
   "outputs": [
    {
     "data": {
      "text/plain": [
       "array(['NT', 'LC', 'VU', 'NaN'], dtype=object)"
      ]
     },
     "execution_count": 10,
     "metadata": {},
     "output_type": "execute_result"
    }
   ],
   "source": [
    "out.category.unique()"
   ]
  },
  {
   "cell_type": "code",
   "execution_count": 11,
   "id": "indirect-stock",
   "metadata": {},
   "outputs": [],
   "source": [
    "# found some empty values (5 species in 35) we don't have information to\n",
    "vacios = out.loc[:, \"category\"] == 'NaN'\n",
    "empty = out[vacios]\n",
    "to_drop = list(empty.species.unique())"
   ]
  },
  {
   "cell_type": "code",
   "execution_count": 12,
   "id": "cordless-madagascar",
   "metadata": {},
   "outputs": [
    {
     "data": {
      "text/plain": [
       "30"
      ]
     },
     "execution_count": 12,
     "metadata": {},
     "output_type": "execute_result"
    }
   ],
   "source": [
    "# drop species with empty values returned from the call to the api\n",
    "out = out[~out['species'].isin(to_drop)]\n",
    "len(out.species.unique())"
   ]
  },
  {
   "cell_type": "code",
   "execution_count": 13,
   "id": "right-community",
   "metadata": {},
   "outputs": [
    {
     "name": "stdout",
     "output_type": "stream",
     "text": [
      "['Tadorna ferruginea' 'Passer hispaniolensis' 'Podiceps grisegena'\n",
      " 'Fulica cristata' 'Alopochen aegyptiaca' 'Morus bassanus'\n",
      " 'Sylvia conspicillata' 'Sterna hirundo' 'Chlidonias hybrida'\n",
      " 'Phasianus colchicus' 'Calidris temminckii' 'Sterna paradisaea'\n",
      " 'Anser brachyrhynchus' 'Phylloscopus inornatus'\n",
      " 'Stercorarius longicaudus' 'Threskiornis aethiopicus' 'Tringa flavipes'\n",
      " 'Xema sabini' 'Larus hyperboreus' 'Alle alle' 'Fulmarus glacialis'\n",
      " 'Aix galericulata' 'Sylvia curruca' 'Anthus hodgsoni' 'Anser fabalis'\n",
      " 'Phylloscopus fuscatus' 'Aix sponsa']\n"
     ]
    }
   ],
   "source": [
    "# Least concern (LC) – unlikely to become extinct in the near future\n",
    "LC = out.loc[:, 'category'] == 'LC'\n",
    "print(out[LC].species.unique())"
   ]
  },
  {
   "cell_type": "code",
   "execution_count": 14,
   "id": "medium-underground",
   "metadata": {},
   "outputs": [
    {
     "name": "stdout",
     "output_type": "stream",
     "text": [
      "['Phoeniconaias minor' 'Calidris canutus']\n"
     ]
    }
   ],
   "source": [
    "# Near threatened (NT) – close to being at high risk of extinction in the near future.\n",
    "NT = out.loc[:, 'category'] == 'NT'\n",
    "print(out[NT].species.unique())"
   ]
  },
  {
   "cell_type": "code",
   "execution_count": 15,
   "id": "signal-psychology",
   "metadata": {},
   "outputs": [
    {
     "name": "stdout",
     "output_type": "stream",
     "text": [
      "['Marmaronetta angustirostris']\n"
     ]
    }
   ],
   "source": [
    "# Vulnerable (VU) considered to be at high risk of unnatural (human-caused) extinction\n",
    "VU = out.loc[:, 'category'] == 'VU'\n",
    "print(out[VU].species.unique())"
   ]
  },
  {
   "cell_type": "code",
   "execution_count": 16,
   "id": "solid-assessment",
   "metadata": {},
   "outputs": [
    {
     "data": {
      "text/plain": [
       "array(['Decreasing', 'Unknown', 'Increasing', 'Stable'], dtype=object)"
      ]
     },
     "execution_count": 16,
     "metadata": {},
     "output_type": "execute_result"
    }
   ],
   "source": [
    "# further study about the population trend\n",
    "out.population_trend.unique()"
   ]
  },
  {
   "cell_type": "code",
   "execution_count": 17,
   "id": "checked-islam",
   "metadata": {},
   "outputs": [
    {
     "name": "stdout",
     "output_type": "stream",
     "text": [
      "['Phoeniconaias minor' 'Passer hispaniolensis' 'Calidris canutus'\n",
      " 'Podiceps grisegena' 'Marmaronetta angustirostris' 'Fulica cristata'\n",
      " 'Alopochen aegyptiaca' 'Phasianus colchicus' 'Sterna paradisaea'\n",
      " 'Tringa flavipes' 'Alle alle' 'Aix galericulata' 'Anser fabalis']\n"
     ]
    }
   ],
   "source": [
    "# 10 more species (+3 in VU and NT) population are decreasing\n",
    "dec = out.loc[:, 'population_trend'] == 'Decreasing'\n",
    "print(out[dec].species.unique())"
   ]
  },
  {
   "cell_type": "code",
   "execution_count": 18,
   "id": "federal-seeking",
   "metadata": {},
   "outputs": [],
   "source": [
    "dec = out[dec]"
   ]
  },
  {
   "cell_type": "markdown",
   "id": "suitable-fields",
   "metadata": {},
   "source": [
    "# Passer hispaniolensis\n",
    "La especie no presenta problemas de conservación; por el contrario, la gran expansión experimentada en la cuenca del Guadiana ha hecho que llegue a considerársela una plaga en las zonas de cultivos de regadío de Extremadura, donde se llevan a cabo ocasionales descastes de población y medidas encaminadas a evitar el asentamiento de colonias en las cercanías de los cultivos. Puede, no obstante, verse algo afectada por la pérdida de\n",
    "arboledas donde criar, especialmente en zonas periféricas de su área de distribución\n",
    "\n",
    "-- SEO BIRDLIFE\n",
    "\n",
    "\n",
    "# Phasianus colchicus\n",
    "Dada su estrecha ligazón con la actividad cinegética, su principal factor limitante es la fuerte presión de caza que sufre. No se ha evaluado convenientemente la posible incidencia de su liberación en el medio natural (impacto sobre la vegetación, competencia con otras especies, problemas\n",
    "sanitarios, predadores, etc.).\n",
    "\n",
    "-- SEO BIRDLIFE"
   ]
  },
  {
   "cell_type": "code",
   "execution_count": 19,
   "id": "exotic-cliff",
   "metadata": {},
   "outputs": [
    {
     "data": {
      "text/plain": [
       "array(['Phoeniconaias minor', 'Calidris canutus', 'Podiceps grisegena',\n",
       "       'Marmaronetta angustirostris', 'Fulica cristata',\n",
       "       'Alopochen aegyptiaca', 'Sterna paradisaea', 'Tringa flavipes',\n",
       "       'Alle alle', 'Aix galericulata', 'Anser fabalis'], dtype=object)"
      ]
     },
     "execution_count": 19,
     "metadata": {},
     "output_type": "execute_result"
    }
   ],
   "source": [
    "no = ['Passer hispaniolensis', 'Phasianus colchicus']\n",
    "\n",
    "decreasing = dec[~dec['species'].isin(no)]\n",
    "decreasing.species.unique()"
   ]
  },
  {
   "cell_type": "code",
   "execution_count": 20,
   "id": "legal-talent",
   "metadata": {},
   "outputs": [],
   "source": [
    "# save decreasing species in dataset\n",
    "decreasing.to_csv('decreasing.csv')"
   ]
  }
 ],
 "metadata": {
  "kernelspec": {
   "display_name": "Python 3",
   "language": "python",
   "name": "python3"
  },
  "language_info": {
   "codemirror_mode": {
    "name": "ipython",
    "version": 3
   },
   "file_extension": ".py",
   "mimetype": "text/x-python",
   "name": "python",
   "nbconvert_exporter": "python",
   "pygments_lexer": "ipython3",
   "version": "3.8.2"
  }
 },
 "nbformat": 4,
 "nbformat_minor": 5
}
