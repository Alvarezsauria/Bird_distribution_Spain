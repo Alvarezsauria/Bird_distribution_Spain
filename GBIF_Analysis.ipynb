{
 "cells": [
  {
   "cell_type": "code",
   "execution_count": 118,
   "id": "hydraulic-vegetable",
   "metadata": {},
   "outputs": [],
   "source": [
    "# Import libraries\n",
    "import pandas as pd\n",
    "import matplotlib.pyplot as plt\n",
    "import seaborn as sns\n",
    "from itertools import combinations\n",
    "import numpy as np\n",
    "import collections"
   ]
  },
  {
   "cell_type": "code",
   "execution_count": 2,
   "id": "engaged-chancellor",
   "metadata": {},
   "outputs": [],
   "source": [
    "gbif_r = pd.read_csv('gbif_r.csv')"
   ]
  },
  {
   "cell_type": "code",
   "execution_count": 3,
   "id": "separated-economics",
   "metadata": {},
   "outputs": [],
   "source": [
    "# New dataframe with the lat-long mean and median per year and specie\n",
    "dif = pd.DataFrame(gbif_r.groupby(['year', 'species'])['lat'].mean())\n",
    "dif = dif.rename(columns = {'lat': 'lat_mean'})\n",
    "dif['long_mean'] = gbif_r.groupby(['year', 'species'])['long'].mean()\n",
    "dif['long_med'] = gbif_r.groupby(['year', 'species'])['long'].median()\n",
    "dif['lat_med'] = gbif_r.groupby(['year', 'species'])['lat'].median()\n",
    "dif['regions'] = gbif_r.groupby(['year', 'species'])['region'].agg(lambda x:x.value_counts().index[0])\n",
    "\n",
    "dif.reset_index(inplace = True)  "
   ]
  },
  {
   "cell_type": "code",
   "execution_count": 23,
   "id": "local-crack",
   "metadata": {},
   "outputs": [
    {
     "data": {
      "text/html": [
       "<div>\n",
       "<style scoped>\n",
       "    .dataframe tbody tr th:only-of-type {\n",
       "        vertical-align: middle;\n",
       "    }\n",
       "\n",
       "    .dataframe tbody tr th {\n",
       "        vertical-align: top;\n",
       "    }\n",
       "\n",
       "    .dataframe thead th {\n",
       "        text-align: right;\n",
       "    }\n",
       "</style>\n",
       "<table border=\"1\" class=\"dataframe\">\n",
       "  <thead>\n",
       "    <tr style=\"text-align: right;\">\n",
       "      <th></th>\n",
       "      <th>lat_mean_01-20</th>\n",
       "      <th>long_mean_01-20</th>\n",
       "      <th>lat_med_01-20</th>\n",
       "      <th>long_med_01-20</th>\n",
       "    </tr>\n",
       "  </thead>\n",
       "  <tbody>\n",
       "    <tr>\n",
       "      <th>Accipiter gentilis</th>\n",
       "      <td>-0.363295</td>\n",
       "      <td>0.997845</td>\n",
       "      <td>-0.391531</td>\n",
       "      <td>1.139175</td>\n",
       "    </tr>\n",
       "    <tr>\n",
       "      <th>Accipiter nisus</th>\n",
       "      <td>0.050245</td>\n",
       "      <td>0.670222</td>\n",
       "      <td>-0.310430</td>\n",
       "      <td>1.294906</td>\n",
       "    </tr>\n",
       "    <tr>\n",
       "      <th>Acrocephalus arundinaceus</th>\n",
       "      <td>-0.485551</td>\n",
       "      <td>1.106905</td>\n",
       "      <td>-1.375074</td>\n",
       "      <td>2.313438</td>\n",
       "    </tr>\n",
       "    <tr>\n",
       "      <th>Acrocephalus melanopogon</th>\n",
       "      <td>-0.918729</td>\n",
       "      <td>-2.517785</td>\n",
       "      <td>-0.919915</td>\n",
       "      <td>-3.362374</td>\n",
       "    </tr>\n",
       "    <tr>\n",
       "      <th>Acrocephalus paludicola</th>\n",
       "      <td>-0.098263</td>\n",
       "      <td>1.596620</td>\n",
       "      <td>-0.226017</td>\n",
       "      <td>2.313438</td>\n",
       "    </tr>\n",
       "    <tr>\n",
       "      <th>...</th>\n",
       "      <td>...</td>\n",
       "      <td>...</td>\n",
       "      <td>...</td>\n",
       "      <td>...</td>\n",
       "    </tr>\n",
       "    <tr>\n",
       "      <th>Upupa epops</th>\n",
       "      <td>1.098976</td>\n",
       "      <td>1.486455</td>\n",
       "      <td>-0.051227</td>\n",
       "      <td>1.557742</td>\n",
       "    </tr>\n",
       "    <tr>\n",
       "      <th>Uria aalge</th>\n",
       "      <td>-0.059705</td>\n",
       "      <td>1.141408</td>\n",
       "      <td>-0.028250</td>\n",
       "      <td>2.233221</td>\n",
       "    </tr>\n",
       "    <tr>\n",
       "      <th>Vanellus vanellus</th>\n",
       "      <td>-0.925168</td>\n",
       "      <td>0.322991</td>\n",
       "      <td>-1.666814</td>\n",
       "      <td>0.109112</td>\n",
       "    </tr>\n",
       "    <tr>\n",
       "      <th>Xema sabini</th>\n",
       "      <td>-0.072182</td>\n",
       "      <td>-1.048437</td>\n",
       "      <td>-0.474348</td>\n",
       "      <td>-4.535075</td>\n",
       "    </tr>\n",
       "    <tr>\n",
       "      <th>Xenus cinereus</th>\n",
       "      <td>0.907977</td>\n",
       "      <td>0.437362</td>\n",
       "      <td>1.417043</td>\n",
       "      <td>1.086237</td>\n",
       "    </tr>\n",
       "  </tbody>\n",
       "</table>\n",
       "<p>380 rows × 4 columns</p>\n",
       "</div>"
      ],
      "text/plain": [
       "                           lat_mean_01-20  long_mean_01-20  lat_med_01-20  \\\n",
       "Accipiter gentilis              -0.363295         0.997845      -0.391531   \n",
       "Accipiter nisus                  0.050245         0.670222      -0.310430   \n",
       "Acrocephalus arundinaceus       -0.485551         1.106905      -1.375074   \n",
       "Acrocephalus melanopogon        -0.918729        -2.517785      -0.919915   \n",
       "Acrocephalus paludicola         -0.098263         1.596620      -0.226017   \n",
       "...                                   ...              ...            ...   \n",
       "Upupa epops                      1.098976         1.486455      -0.051227   \n",
       "Uria aalge                      -0.059705         1.141408      -0.028250   \n",
       "Vanellus vanellus               -0.925168         0.322991      -1.666814   \n",
       "Xema sabini                     -0.072182        -1.048437      -0.474348   \n",
       "Xenus cinereus                   0.907977         0.437362       1.417043   \n",
       "\n",
       "                           long_med_01-20  \n",
       "Accipiter gentilis               1.139175  \n",
       "Accipiter nisus                  1.294906  \n",
       "Acrocephalus arundinaceus        2.313438  \n",
       "Acrocephalus melanopogon        -3.362374  \n",
       "Acrocephalus paludicola          2.313438  \n",
       "...                                   ...  \n",
       "Upupa epops                      1.557742  \n",
       "Uria aalge                       2.233221  \n",
       "Vanellus vanellus                0.109112  \n",
       "Xema sabini                     -4.535075  \n",
       "Xenus cinereus                   1.086237  \n",
       "\n",
       "[380 rows x 4 columns]"
      ]
     },
     "execution_count": 23,
     "metadata": {},
     "output_type": "execute_result"
    }
   ],
   "source": [
    "# create an empty dataframe\n",
    "new = pd.DataFrame()\n",
    "\n",
    "# select species in common in both study years\n",
    "species20 = list(dif.species[dif['year'] == 2020])\n",
    "species01 = list(dif.species[dif['year'] == 2001])\n",
    "\n",
    "spec = list(set(species01).intersection(species20))\n",
    "\n",
    "# sort the common species\n",
    "spec.sort()\n",
    "\n",
    "# set species as the index in our dataframe\n",
    "new = pd.DataFrame(index=spec)\n",
    "\n",
    "\n",
    "# lat_mean\n",
    "for s in new.index:\n",
    "    dif_spec = dif[dif[\"species\"] == s]\n",
    "\n",
    "    aux_y1 = dif_spec.lat_mean[dif_spec['year'] == 2001].iloc[0]\n",
    "    aux_y2 = dif_spec.lat_mean[dif_spec['year'] == 2020].iloc[0]\n",
    "\n",
    "    new.loc[s, 'lat_mean_01-20'] = aux_y2 - aux_y1\n",
    "\n",
    "# long_mean\n",
    "for s in new.index:\n",
    "    dif_spec = dif[dif[\"species\"] == s]\n",
    "\n",
    "    aux_y1 = dif_spec.long_mean[dif_spec['year'] == 2001].iloc[0]\n",
    "    aux_y2 = dif_spec.long_mean[dif_spec['year'] == 2020].iloc[0]\n",
    "\n",
    "    new.loc[s, 'long_mean_01-20'] = aux_y2 - aux_y1\n",
    "\n",
    "# lat_med\n",
    "for s in new.index:\n",
    "    dif_spec = dif[dif[\"species\"] == s]\n",
    "\n",
    "    aux_y1 = dif_spec.lat_med[dif_spec['year'] == 2001].iloc[0]\n",
    "    aux_y2 = dif_spec.lat_med[dif_spec['year'] == 2020].iloc[0]\n",
    "\n",
    "    new.loc[s, 'lat_med_01-20'] = aux_y2 - aux_y1\n",
    "\n",
    "# long_med\n",
    "for s in new.index:\n",
    "    dif_spec = dif[dif[\"species\"] == s]\n",
    "\n",
    "    aux_y1 = dif_spec.long_med[dif_spec['year'] == 2001].iloc[0]\n",
    "    aux_y2 = dif_spec.long_med[dif_spec['year'] == 2020].iloc[0]\n",
    "\n",
    "    new.loc[s, 'long_med_01-20'] = aux_y2 - aux_y1\n",
    "\n",
    "new"
   ]
  },
  {
   "cell_type": "code",
   "execution_count": 84,
   "id": "neural-waste",
   "metadata": {},
   "outputs": [
    {
     "data": {
      "text/plain": [
       "Index(['Anthus hodgsoni', 'Phoeniconaias minor'], dtype='object')"
      ]
     },
     "execution_count": 84,
     "metadata": {},
     "output_type": "execute_result"
    }
   ],
   "source": [
    "# look for outliers in mean latitude\n",
    "mean_lat = new['lat_mean_01-20'].sort_values()\n",
    "mean_lat.head(10)\n",
    "\n",
    "# look for outliers in mean longitude\n",
    "mean_long = new['long_mean_01-20'].sort_values()\n",
    "mean_long.head(10)\n",
    "\n",
    "# look for outliers in median latitude\n",
    "med_lat = new['lat_med_01-20'].sort_values()\n",
    "med_lat.head(10)\n",
    "\n",
    "# look for outliers in median longitude\n",
    "med_long = new['long_med_01-20'].sort_values()\n",
    "med_long.head(10)"
   ]
  },
  {
   "cell_type": "code",
   "execution_count": 119,
   "id": "centered-workplace",
   "metadata": {},
   "outputs": [
    {
     "name": "stdout",
     "output_type": "stream",
     "text": [
      "['Anthus hodgsoni', 'Phoeniconaias minor', 'Sylvia curruca', 'Alopochen aegyptiaca', 'Phylloscopus inornatus', 'Threskiornis aethiopicus', 'Anas americana', 'Aix sponsa', 'Phylloscopus fuscatus']\n"
     ]
    }
   ],
   "source": [
    "# creating a unique list with all outlier species\n",
    "\n",
    "# 2 values up to 4 in mean_lat\n",
    "mean_lat_list = mean_lat[:2]\n",
    "mean_lat_list = mean_lat_list.index.values.tolist()\n",
    "\n",
    "# 7 values up to 4 in mean_long\n",
    "mean_long_list = mean_long[:7]\n",
    "mean_long_list = mean_long_list.index.values.tolist()\n",
    "\n",
    "# 4 values up to 4 in med_lat\n",
    "med_lat_list = med_lat[:4]\n",
    "med_lat_list = med_lat_list.index.values.tolist()\n",
    "\n",
    "# 13 values up to 4 in med_long\n",
    "med_long_list = med_long[:13]\n",
    "med_long_list = med_long_list.index.values.tolist()\n",
    "\n",
    "# unique list \n",
    "outlier = mean_lat_list + mean_long_list + med_lat_list + med_long_list"
   ]
  },
  {
   "cell_type": "code",
   "execution_count": null,
   "id": "liquid-donna",
   "metadata": {},
   "outputs": [],
   "source": [
    "# unique list without duplicates\n",
    "outliers = set(outlier)\n",
    "outliers = list(outliers)\n",
    "print(outliers)"
   ]
  },
  {
   "cell_type": "code",
   "execution_count": 124,
   "id": "protecting-breast",
   "metadata": {},
   "outputs": [
    {
     "name": "stdout",
     "output_type": "stream",
     "text": [
      "['Anthus hodgsoni', 'Phoeniconaias minor', 'Sylvia curruca', 'Alopochen aegyptiaca', 'Phylloscopus inornatus', 'Threskiornis aethiopicus', 'Anas americana', 'Aix sponsa', 'Phylloscopus fuscatus']\n"
     ]
    }
   ],
   "source": [
    "# list of species repeated in mean and median change-distribution lists\n",
    "re_species = [item for item, count in collections.Counter(outlier).items() if count > 1]\n",
    "print(re_species)"
   ]
  },
  {
   "cell_type": "code",
   "execution_count": 114,
   "id": "alien-biotechnology",
   "metadata": {},
   "outputs": [
    {
     "data": {
      "text/plain": [
       "[]"
      ]
     },
     "execution_count": 114,
     "metadata": {},
     "output_type": "execute_result"
    }
   ],
   "source": [
    "# There is not a specie that changes long-lat at the same time -- mean\n",
    "outs = []\n",
    "for o in mean_lat_list:\n",
    "    if o in mean_long_list:\n",
    "        outs.append(o)\n",
    "outs"
   ]
  },
  {
   "cell_type": "code",
   "execution_count": 115,
   "id": "competitive-baseball",
   "metadata": {},
   "outputs": [
    {
     "data": {
      "text/plain": [
       "[]"
      ]
     },
     "execution_count": 115,
     "metadata": {},
     "output_type": "execute_result"
    }
   ],
   "source": [
    "# There is not a specie that changes long-lat at the same time -- median\n",
    "outs = []\n",
    "for o in med_lat_list:\n",
    "    if o in med_long_list:\n",
    "        outs.append(o)\n",
    "outs"
   ]
  },
  {
   "cell_type": "code",
   "execution_count": 128,
   "id": "legendary-negotiation",
   "metadata": {},
   "outputs": [
    {
     "name": "stdout",
     "output_type": "stream",
     "text": [
      "['Anthus hodgsoni', 'Phoeniconaias minor', 'Sylvia curruca', 'Alopochen aegyptiaca', 'Phylloscopus inornatus', 'Threskiornis aethiopicus', 'Anas americana', 'Aix sponsa', 'Phylloscopus fuscatus']\n"
     ]
    }
   ],
   "source": [
    "print(re_species)\n",
    "# Stercorarius skua  \n",
    "# Phasianus colchicus "
   ]
  },
  {
   "cell_type": "code",
   "execution_count": null,
   "id": "found-level",
   "metadata": {},
   "outputs": [],
   "source": [
    "Anthus hodgsoni - migratoria - passeriforme \n",
    "Phoeniconaias minor - migratoria - phoenicopteriformes - poco amenazado\n",
    "Sylvia curruca - migratoria - passeriforme - \n",
    "Alopochen aegyptiaca - nativa ahora - anseriformes\n",
    "Phylloscopus inornatus - migratoria - passeriforme \n",
    "Threskiornis aethiopicus - migratoria - pelecaniformes \n",
    "Anas americana - migratoria - anseriformes \n",
    "Aix sponsa - migratoria - anseriformes \n",
    "Phylloscopus fuscatus - migratoria - passeriforme \n",
    "Stercorarius skua - invernante - charadriiformes\n",
    "Phasianus colchicus - introducida - galliformes"
   ]
  },
  {
   "cell_type": "code",
   "execution_count": null,
   "id": "frequent-update",
   "metadata": {},
   "outputs": [],
   "source": []
  },
  {
   "cell_type": "code",
   "execution_count": null,
   "id": "international-sixth",
   "metadata": {},
   "outputs": [],
   "source": []
  },
  {
   "cell_type": "markdown",
   "id": "dimensional-valuation",
   "metadata": {},
   "source": [
    "GUARDAR ESTE CÓDIGO"
   ]
  },
  {
   "cell_type": "code",
   "execution_count": 121,
   "id": "hazardous-observation",
   "metadata": {},
   "outputs": [
    {
     "ename": "KeyboardInterrupt",
     "evalue": "",
     "output_type": "error",
     "traceback": [
      "\u001b[0;31m---------------------------------------------------------------------------\u001b[0m",
      "\u001b[0;31mKeyboardInterrupt\u001b[0m                         Traceback (most recent call last)",
      "\u001b[0;32m<ipython-input-121-fccb0894725b>\u001b[0m in \u001b[0;36m<module>\u001b[0;34m\u001b[0m\n\u001b[1;32m     15\u001b[0m     \u001b[0;32mfor\u001b[0m \u001b[0my1\u001b[0m\u001b[0;34m,\u001b[0m \u001b[0my2\u001b[0m \u001b[0;32min\u001b[0m \u001b[0myears_perm\u001b[0m\u001b[0;34m:\u001b[0m\u001b[0;34m\u001b[0m\u001b[0;34m\u001b[0m\u001b[0m\n\u001b[1;32m     16\u001b[0m         \u001b[0;31m# get only curren specie\u001b[0m\u001b[0;34m\u001b[0m\u001b[0;34m\u001b[0m\u001b[0;34m\u001b[0m\u001b[0m\n\u001b[0;32m---> 17\u001b[0;31m         \u001b[0mdif_spec\u001b[0m \u001b[0;34m=\u001b[0m \u001b[0mdif\u001b[0m\u001b[0;34m[\u001b[0m\u001b[0mdif\u001b[0m\u001b[0;34m[\u001b[0m\u001b[0;34m\"species\"\u001b[0m\u001b[0;34m]\u001b[0m \u001b[0;34m==\u001b[0m \u001b[0ms\u001b[0m\u001b[0;34m]\u001b[0m\u001b[0;34m\u001b[0m\u001b[0;34m\u001b[0m\u001b[0m\n\u001b[0m\u001b[1;32m     18\u001b[0m \u001b[0;34m\u001b[0m\u001b[0m\n\u001b[1;32m     19\u001b[0m         \u001b[0;31m# get lat mean for current specie and years 1 and 2 respectively\u001b[0m\u001b[0;34m\u001b[0m\u001b[0;34m\u001b[0m\u001b[0;34m\u001b[0m\u001b[0m\n",
      "\u001b[0;32m~/Library/Python/3.8/lib/python/site-packages/pandas/core/frame.py\u001b[0m in \u001b[0;36m__getitem__\u001b[0;34m(self, key)\u001b[0m\n\u001b[1;32m   3013\u001b[0m         \u001b[0;31m# Do we have a (boolean) 1d indexer?\u001b[0m\u001b[0;34m\u001b[0m\u001b[0;34m\u001b[0m\u001b[0;34m\u001b[0m\u001b[0m\n\u001b[1;32m   3014\u001b[0m         \u001b[0;32mif\u001b[0m \u001b[0mcom\u001b[0m\u001b[0;34m.\u001b[0m\u001b[0mis_bool_indexer\u001b[0m\u001b[0;34m(\u001b[0m\u001b[0mkey\u001b[0m\u001b[0;34m)\u001b[0m\u001b[0;34m:\u001b[0m\u001b[0;34m\u001b[0m\u001b[0;34m\u001b[0m\u001b[0m\n\u001b[0;32m-> 3015\u001b[0;31m             \u001b[0;32mreturn\u001b[0m \u001b[0mself\u001b[0m\u001b[0;34m.\u001b[0m\u001b[0m_getitem_bool_array\u001b[0m\u001b[0;34m(\u001b[0m\u001b[0mkey\u001b[0m\u001b[0;34m)\u001b[0m\u001b[0;34m\u001b[0m\u001b[0;34m\u001b[0m\u001b[0m\n\u001b[0m\u001b[1;32m   3016\u001b[0m \u001b[0;34m\u001b[0m\u001b[0m\n\u001b[1;32m   3017\u001b[0m         \u001b[0;31m# We are left with two options: a single key, and a collection of keys,\u001b[0m\u001b[0;34m\u001b[0m\u001b[0;34m\u001b[0m\u001b[0;34m\u001b[0m\u001b[0m\n",
      "\u001b[0;32m~/Library/Python/3.8/lib/python/site-packages/pandas/core/frame.py\u001b[0m in \u001b[0;36m_getitem_bool_array\u001b[0;34m(self, key)\u001b[0m\n\u001b[1;32m   3066\u001b[0m         \u001b[0;31m# check_bool_indexer will throw exception if Series key cannot\u001b[0m\u001b[0;34m\u001b[0m\u001b[0;34m\u001b[0m\u001b[0;34m\u001b[0m\u001b[0m\n\u001b[1;32m   3067\u001b[0m         \u001b[0;31m# be reindexed to match DataFrame rows\u001b[0m\u001b[0;34m\u001b[0m\u001b[0;34m\u001b[0m\u001b[0;34m\u001b[0m\u001b[0m\n\u001b[0;32m-> 3068\u001b[0;31m         \u001b[0mkey\u001b[0m \u001b[0;34m=\u001b[0m \u001b[0mcheck_bool_indexer\u001b[0m\u001b[0;34m(\u001b[0m\u001b[0mself\u001b[0m\u001b[0;34m.\u001b[0m\u001b[0mindex\u001b[0m\u001b[0;34m,\u001b[0m \u001b[0mkey\u001b[0m\u001b[0;34m)\u001b[0m\u001b[0;34m\u001b[0m\u001b[0;34m\u001b[0m\u001b[0m\n\u001b[0m\u001b[1;32m   3069\u001b[0m         \u001b[0mindexer\u001b[0m \u001b[0;34m=\u001b[0m \u001b[0mkey\u001b[0m\u001b[0;34m.\u001b[0m\u001b[0mnonzero\u001b[0m\u001b[0;34m(\u001b[0m\u001b[0;34m)\u001b[0m\u001b[0;34m[\u001b[0m\u001b[0;36m0\u001b[0m\u001b[0;34m]\u001b[0m\u001b[0;34m\u001b[0m\u001b[0;34m\u001b[0m\u001b[0m\n\u001b[1;32m   3070\u001b[0m         \u001b[0;32mreturn\u001b[0m \u001b[0mself\u001b[0m\u001b[0;34m.\u001b[0m\u001b[0m_take_with_is_copy\u001b[0m\u001b[0;34m(\u001b[0m\u001b[0mindexer\u001b[0m\u001b[0;34m,\u001b[0m \u001b[0maxis\u001b[0m\u001b[0;34m=\u001b[0m\u001b[0;36m0\u001b[0m\u001b[0;34m)\u001b[0m\u001b[0;34m\u001b[0m\u001b[0;34m\u001b[0m\u001b[0m\n",
      "\u001b[0;32m~/Library/Python/3.8/lib/python/site-packages/pandas/core/indexing.py\u001b[0m in \u001b[0;36mcheck_bool_indexer\u001b[0;34m(index, key)\u001b[0m\n\u001b[1;32m   2273\u001b[0m             )\n\u001b[1;32m   2274\u001b[0m         \u001b[0;32mreturn\u001b[0m \u001b[0mresult\u001b[0m\u001b[0;34m.\u001b[0m\u001b[0mastype\u001b[0m\u001b[0;34m(\u001b[0m\u001b[0mbool\u001b[0m\u001b[0;34m)\u001b[0m\u001b[0;34m.\u001b[0m\u001b[0m_values\u001b[0m\u001b[0;34m\u001b[0m\u001b[0;34m\u001b[0m\u001b[0m\n\u001b[0;32m-> 2275\u001b[0;31m     \u001b[0;32mif\u001b[0m \u001b[0mis_object_dtype\u001b[0m\u001b[0;34m(\u001b[0m\u001b[0mkey\u001b[0m\u001b[0;34m)\u001b[0m\u001b[0;34m:\u001b[0m\u001b[0;34m\u001b[0m\u001b[0;34m\u001b[0m\u001b[0m\n\u001b[0m\u001b[1;32m   2276\u001b[0m         \u001b[0;31m# key might be object-dtype bool, check_array_indexer needs bool array\u001b[0m\u001b[0;34m\u001b[0m\u001b[0;34m\u001b[0m\u001b[0;34m\u001b[0m\u001b[0m\n\u001b[1;32m   2277\u001b[0m         \u001b[0mresult\u001b[0m \u001b[0;34m=\u001b[0m \u001b[0mnp\u001b[0m\u001b[0;34m.\u001b[0m\u001b[0masarray\u001b[0m\u001b[0;34m(\u001b[0m\u001b[0mresult\u001b[0m\u001b[0;34m,\u001b[0m \u001b[0mdtype\u001b[0m\u001b[0;34m=\u001b[0m\u001b[0mbool\u001b[0m\u001b[0;34m)\u001b[0m\u001b[0;34m\u001b[0m\u001b[0;34m\u001b[0m\u001b[0m\n",
      "\u001b[0;32m~/Library/Python/3.8/lib/python/site-packages/pandas/core/dtypes/common.py\u001b[0m in \u001b[0;36mis_object_dtype\u001b[0;34m(arr_or_dtype)\u001b[0m\n\u001b[1;32m    226\u001b[0m     \u001b[0;32mFalse\u001b[0m\u001b[0;34m\u001b[0m\u001b[0;34m\u001b[0m\u001b[0m\n\u001b[1;32m    227\u001b[0m     \"\"\"\n\u001b[0;32m--> 228\u001b[0;31m     \u001b[0;32mreturn\u001b[0m \u001b[0m_is_dtype_type\u001b[0m\u001b[0;34m(\u001b[0m\u001b[0marr_or_dtype\u001b[0m\u001b[0;34m,\u001b[0m \u001b[0mclasses\u001b[0m\u001b[0;34m(\u001b[0m\u001b[0mnp\u001b[0m\u001b[0;34m.\u001b[0m\u001b[0mobject_\u001b[0m\u001b[0;34m)\u001b[0m\u001b[0;34m)\u001b[0m\u001b[0;34m\u001b[0m\u001b[0;34m\u001b[0m\u001b[0m\n\u001b[0m\u001b[1;32m    229\u001b[0m \u001b[0;34m\u001b[0m\u001b[0m\n\u001b[1;32m    230\u001b[0m \u001b[0;34m\u001b[0m\u001b[0m\n",
      "\u001b[0;32m~/Library/Python/3.8/lib/python/site-packages/pandas/core/dtypes/common.py\u001b[0m in \u001b[0;36m_is_dtype_type\u001b[0;34m(arr_or_dtype, condition)\u001b[0m\n\u001b[1;32m   1642\u001b[0m \u001b[0;34m\u001b[0m\u001b[0m\n\u001b[1;32m   1643\u001b[0m     \u001b[0;32mtry\u001b[0m\u001b[0;34m:\u001b[0m\u001b[0;34m\u001b[0m\u001b[0;34m\u001b[0m\u001b[0m\n\u001b[0;32m-> 1644\u001b[0;31m         \u001b[0mtipo\u001b[0m \u001b[0;34m=\u001b[0m \u001b[0mpandas_dtype\u001b[0m\u001b[0;34m(\u001b[0m\u001b[0marr_or_dtype\u001b[0m\u001b[0;34m)\u001b[0m\u001b[0;34m.\u001b[0m\u001b[0mtype\u001b[0m\u001b[0;34m\u001b[0m\u001b[0;34m\u001b[0m\u001b[0m\n\u001b[0m\u001b[1;32m   1645\u001b[0m     \u001b[0;32mexcept\u001b[0m \u001b[0;34m(\u001b[0m\u001b[0mTypeError\u001b[0m\u001b[0;34m,\u001b[0m \u001b[0mValueError\u001b[0m\u001b[0;34m,\u001b[0m \u001b[0mUnicodeEncodeError\u001b[0m\u001b[0;34m)\u001b[0m\u001b[0;34m:\u001b[0m\u001b[0;34m\u001b[0m\u001b[0;34m\u001b[0m\u001b[0m\n\u001b[1;32m   1646\u001b[0m         \u001b[0;32mif\u001b[0m \u001b[0mis_scalar\u001b[0m\u001b[0;34m(\u001b[0m\u001b[0marr_or_dtype\u001b[0m\u001b[0;34m)\u001b[0m\u001b[0;34m:\u001b[0m\u001b[0;34m\u001b[0m\u001b[0;34m\u001b[0m\u001b[0m\n",
      "\u001b[0;32m~/Library/Python/3.8/lib/python/site-packages/pandas/core/dtypes/common.py\u001b[0m in \u001b[0;36mpandas_dtype\u001b[0;34m(dtype)\u001b[0m\n\u001b[1;32m   1786\u001b[0m     \u001b[0;32mif\u001b[0m \u001b[0misinstance\u001b[0m\u001b[0;34m(\u001b[0m\u001b[0mdtype\u001b[0m\u001b[0;34m,\u001b[0m \u001b[0mnp\u001b[0m\u001b[0;34m.\u001b[0m\u001b[0mndarray\u001b[0m\u001b[0;34m)\u001b[0m\u001b[0;34m:\u001b[0m\u001b[0;34m\u001b[0m\u001b[0;34m\u001b[0m\u001b[0m\n\u001b[1;32m   1787\u001b[0m         \u001b[0;32mreturn\u001b[0m \u001b[0mdtype\u001b[0m\u001b[0;34m.\u001b[0m\u001b[0mdtype\u001b[0m\u001b[0;34m\u001b[0m\u001b[0;34m\u001b[0m\u001b[0m\n\u001b[0;32m-> 1788\u001b[0;31m     \u001b[0;32melif\u001b[0m \u001b[0misinstance\u001b[0m\u001b[0;34m(\u001b[0m\u001b[0mdtype\u001b[0m\u001b[0;34m,\u001b[0m \u001b[0;34m(\u001b[0m\u001b[0mnp\u001b[0m\u001b[0;34m.\u001b[0m\u001b[0mdtype\u001b[0m\u001b[0;34m,\u001b[0m \u001b[0mExtensionDtype\u001b[0m\u001b[0;34m)\u001b[0m\u001b[0;34m)\u001b[0m\u001b[0;34m:\u001b[0m\u001b[0;34m\u001b[0m\u001b[0;34m\u001b[0m\u001b[0m\n\u001b[0m\u001b[1;32m   1789\u001b[0m         \u001b[0;32mreturn\u001b[0m \u001b[0mdtype\u001b[0m\u001b[0;34m\u001b[0m\u001b[0;34m\u001b[0m\u001b[0m\n\u001b[1;32m   1790\u001b[0m \u001b[0;34m\u001b[0m\u001b[0m\n",
      "\u001b[0;31mKeyboardInterrupt\u001b[0m: "
     ]
    }
   ],
   "source": [
    "### AÑOS BUCLE  -- retorna 190 columnas solo para las combinaciones de lat_mean\n",
    "new = pd.DataFrame()\n",
    "\n",
    "species20 = list(dif.species[dif['year'] == 2020])\n",
    "species01 = list(dif.species[dif['year'] == 2001])\n",
    "\n",
    "spec = list(set(species01).intersection(species20))\n",
    "spec.sort()\n",
    "new = pd.DataFrame(index=spec)\n",
    "\n",
    "years = dif[\"year\"].unique()\n",
    "years_perm = list(combinations(years, 2))\n",
    "\n",
    "for s in new.index:\n",
    "    for y1, y2 in years_perm:\n",
    "        # get only curren specie\n",
    "        dif_spec = dif[dif[\"species\"] == s]\n",
    "\n",
    "        # get lat mean for current specie and years 1 and 2 respectively\n",
    "        aux_y1 = dif_spec.lat_mean[dif_spec['year'] == y1]\n",
    "        aux_y2 = dif_spec.lat_mean[dif_spec['year'] == y2]\n",
    "\n",
    "        # check that current specie has any value in the observed years\n",
    "        if not(aux_y1.empty or aux_y2.empty):  # if not(aux_y1.empty) and not(aux_y2.empty):\n",
    "            diff_s = aux_y2.iloc[0] - aux_y1.iloc[0]\n",
    "\n",
    "        new.loc[s, 'lat_mean_{}-{}'.format(y1, y2)] = diff_s\n",
    "\n",
    "print(new.head())"
   ]
  },
  {
   "cell_type": "markdown",
   "id": "premier-transfer",
   "metadata": {},
   "source": [
    "# A PARTIR DE AQUÍ TODO SON PRUEBAS"
   ]
  },
  {
   "cell_type": "markdown",
   "id": "nominated-addition",
   "metadata": {},
   "source": [
    "plt.figure(figsize = (13,3))\n",
    "sns.kdeplot(x = gbif_r.year, color = 'r');"
   ]
  },
  {
   "cell_type": "markdown",
   "id": "nervous-midnight",
   "metadata": {},
   "source": [
    "plt.figure(figsize = (15,12))\n",
    "plot_order = sns.histplot(y = gbif_r.region, \n",
    "                          hue = gbif_r.order,\n",
    "                           multiple = \"fill\",\n",
    "                         palette = 'Paired');\n",
    "\n",
    "plot_order.set_title('Bird distribution by order and regions')\n",
    "plot_order.set(xlabel = 'Order', \n",
    "                ylabel='Region');"
   ]
  },
  {
   "cell_type": "markdown",
   "id": "filled-theorem",
   "metadata": {},
   "source": [
    "funcion que compare de cada especie-año la long /lat ... y me devuelva una lista de\n",
    "aquellas especies que tengan una diferencia de valor mayor a X \n",
    "o que me ordene la diferencia de valor encontrada, y yo hacer un sort y trabajar con las mayores diferencias\n"
   ]
  },
  {
   "cell_type": "markdown",
   "id": "sapphire-cigarette",
   "metadata": {},
   "source": [
    "# función base con Sonia\n",
    "nombrecolumna = list(dif.columns)\n",
    "species = list(dif.species.unique()) \n",
    "def compare(columnname, startyear, endyear):\n",
    "    lista = []\n",
    "    for s in species:\n",
    "        a = dif.loc[(dif['species'] == s) & (dif['year'] == startyear)]\n",
    "        b = dif.loc[(dif['species'] == s) & (dif['year'] == endyear)]\n",
    "        c = b - a\n",
    "        lista.append({s: c})\n",
    "        \n",
    "    return lista \n",
    "\n",
    "### buscar los valores más altos. ABS!!! "
   ]
  },
  {
   "cell_type": "markdown",
   "id": "substantial-policy",
   "metadata": {},
   "source": [
    "# revisar\n",
    "\n",
    "def plot_df(df, x, y, title=\"\", xlabel='Date', ylabel='Value', dpi=100):\n",
    "    plt.figure(figsize=(16,5), dpi = dpi)\n",
    "    plt.plot(x, y, color='tab:red')\n",
    "    plt.gca().set(title=title, xlabel=xlabel, ylabel=ylabel)\n",
    "    plt.show()\n",
    "\n",
    "plot_df(df = gbif_r, \n",
    "        x = gbif_r.date, \n",
    "        y = gbif_r.observations, \n",
    "        title = 'Bird ')    "
   ]
  },
  {
   "cell_type": "code",
   "execution_count": null,
   "id": "virtual-stylus",
   "metadata": {},
   "outputs": [],
   "source": [
    "# Checking changes in the geographic distribution of species\n",
    "mobility = []\n",
    "for s in dif.species:\n",
    "    # subsetear para specie unica \n",
    "    #nunique = len + unique?!\n",
    "    a = dif[dif.species == s]\n",
    "    if len(a.regions.unique()) != 1:\n",
    "        mobility.append(s)\n",
    "    else:\n",
    "        pass\n",
    "print(set(mobility))\n"
   ]
  },
  {
   "cell_type": "code",
   "execution_count": 22,
   "id": "accepting-concern",
   "metadata": {},
   "outputs": [
    {
     "name": "stdout",
     "output_type": "stream",
     "text": [
      "3269\n"
     ]
    }
   ],
   "source": [
    "mobility = []\n",
    "species_unique = dif.species.unique()\n",
    "for s in species_unique:\n",
    "    \n",
    "   # subsetear para specie unica\n",
    "   # nunique = len + unique?!\n",
    "    dif_spec = dif[dif[\"species\"] == s]\n",
    "        if dif_spec.regions.nunique() > 1:\n",
    "            mobility.append(s)\n",
    "        else:\n",
    "            pass\n",
    "print(len(mobility))\n",
    "\n",
    "###################\n",
    "\n",
    "        # get lat mean for current specie and years 1 and 2 respectively\n",
    "        aux_y1 = dif_spec.lat_mean[dif_spec['year'] == y1]\n",
    "        aux_y2 = dif_spec.lat_mean[dif_spec['year'] == y2]\n",
    "\n",
    "        # check that current specie has any value in the observed years\n",
    "        if not(aux_y1.empty or aux_y2.empty):  # if not(aux_y1.empty) and not(aux_y2.empty):\n",
    "            diff_s = aux_y2.iloc[0] - aux_y1.iloc[0]\n",
    "\n",
    "        new.loc[s, 'lat_mean_{}-{}'.format(y1, y2)] = diff_s"
   ]
  },
  {
   "cell_type": "code",
   "execution_count": 19,
   "id": "searching-religion",
   "metadata": {},
   "outputs": [
    {
     "data": {
      "text/plain": [
       "pandas.core.frame.DataFrame"
      ]
     },
     "execution_count": 19,
     "metadata": {},
     "output_type": "execute_result"
    }
   ],
   "source": [
    "type(dif_spec)"
   ]
  },
  {
   "cell_type": "code",
   "execution_count": null,
   "id": "velvet-cycling",
   "metadata": {},
   "outputs": [],
   "source": [
    "#  Usar Poisson para describir el número de ocurrencias en un determinado espacio de tiempo"
   ]
  }
 ],
 "metadata": {
  "kernelspec": {
   "display_name": "Python 3",
   "language": "python",
   "name": "python3"
  },
  "language_info": {
   "codemirror_mode": {
    "name": "ipython",
    "version": 3
   },
   "file_extension": ".py",
   "mimetype": "text/x-python",
   "name": "python",
   "nbconvert_exporter": "python",
   "pygments_lexer": "ipython3",
   "version": "3.8.2"
  }
 },
 "nbformat": 4,
 "nbformat_minor": 5
}
